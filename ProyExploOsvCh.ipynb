{
 "cells": [
  {
   "cell_type": "markdown",
   "id": "bcf5d19a",
   "metadata": {
    "scrolled": true
   },
   "source": [
    "## Introducción a la Exploración Geofísica\n",
    "Alumno Osvaldo Chávez Cadena\n",
    "\n",
    "\n",
    "### Introducción\n",
    "\n",
    "Un sismo es resultado de una liberación de energía acumulada en forma de ondas al interior de la Tierra, resultado de ello, se produce un movimiento del terreno.\n",
    "\n",
    "Usualmente son de corta duración y la intensidad puede variar, entre las diversas características de este fenómeno, nos muestran como es el interior de nuestro planeta\n",
    "\n",
    "\n",
    "### Causas\n",
    "\n",
    "Se sabe que la forma más común es la interacción entre las placas tectónicas, no es la única.\n",
    "entre las diferentes causas de esta energía se encuentran fallas geológicas (La forma más común), fricción de bordes de placas tectónicas, procesos volcánicos, impactos de asteroides o resultado de actividades humanas.\n",
    "\n",
    "\n",
    "### Aplicaciones\n",
    "\n",
    "Usualmente se emplean para topografía del basamento rocoso así como para medir la profundidad.\n",
    "Se puede clasificar el terreno y finalmente muchas industrias como la petroquímica la utilizan para exploración petrolera.\n",
    "\n",
    "\n"
   ]
  },
  {
   "cell_type": "markdown",
   "id": "d6738975",
   "metadata": {},
   "source": [
    "![](img/petro.png)"
   ]
  },
  {
   "cell_type": "markdown",
   "id": "a4f1c509",
   "metadata": {},
   "source": [
    "### Técnicas de muestreo\n",
    "\n",
    "Una técnica comúnmente utilizada, se emplea colocando dos estaciones las cuales se encontrarán registrando ruido sísmico, así como espacios donde no existan dichos movimientos, dichos datos se toman, se multiplican y se suman los resultados, a continuación, se empalman estos datos hasta que logren coincidir, con esto es posible observar la estructura del suelo, mientras más profundo se quiera llegar, mayor sería la cantidad de datos necesarios.\n",
    "\n",
    "Entre las herramientas para generación de ondas sísmicas se encuentran:\n",
    "**Martillo**, Se utiliza para golpear una placa metálica lo cual activa el sistema de geófonos, registrando las ondas generadas, puede llegar a alcanzar las capas más someras.\n",
    "**La pistola betsy** es similar a un rifle de caza con la diferencia de que no contiene proyectil, únicamente contiene el explosivo, se entierra dicho elemento y es golpeado con un martillo, lo que genera una explosión, generando ondas qué a diferencia de solo el martillo, son de mayor resolución.\n",
    "**Fuentes sísmicas**, Son muy similares al martillo con la diferencia de que son a mayor escala por lo que tienen mayor fuerza en el momento del impacto.\n",
    "**Vibro-seismic**, Usualmente usado en la industria petroquímica, se utiliza un camión o varios para generar ondas sísmicas, alcanzan profundidades de cientos de metros para la localización de combustibles fósiles.\n",
    "**La sísmica Marina**, se utilizan pistolas de aire las cuales lanzan aire, se forma una burbuja en el proceso que es enviada hasta golpear el suelo marino, generando ondas.\n",
    "\n",
    "\n",
    "\n"
   ]
  },
  {
   "cell_type": "markdown",
   "id": "59a4f7a9",
   "metadata": {},
   "source": [
    "![](img/vibro.png)"
   ]
  },
  {
   "cell_type": "markdown",
   "id": "33d61e6f",
   "metadata": {},
   "source": [
    "## Refracción, reflexión y ondas sísmicas\n",
    "\n",
    "\n",
    "#### Ondas de cuerpo\n",
    "Las ondas se pueden clasificar para este tema en:  \n",
    "\n",
    "ondas P, se refiere a ondas primarias, al ser las primeras que se dibujan en los diagramas, son las ondas de sonido.\n",
    "\n",
    "\n",
    "Ondas S, Son más lentas que las P, también llamadas ondas de cizalla, tienen movimientos perpendiculares al ser un tipo de onda elástica.\n",
    "\n"
   ]
  },
  {
   "cell_type": "markdown",
   "id": "4256eae5",
   "metadata": {},
   "source": [
    "![](img/onda.png)"
   ]
  },
  {
   "cell_type": "markdown",
   "id": "44702494",
   "metadata": {},
   "source": [
    "### Ondas superficiales, Conceptos clave\n",
    "\n",
    "\n",
    "\n",
    "\n",
    "**Ondas Love u ondas superficiales**, tienen mayor amplitud en la superficie, se atenua en las profundidades.\n",
    "\n",
    "\n",
    "Las **ondas de Rayleigh** son similares a las ondas de \"mar\" tiene movimientos retrogrados, hacia arriba, hacia abajo, adelante y hacia atrás.\n",
    "\n",
    "\n",
    "**Hipocentro**, lugar de origen de la liberacion de la energia.\n",
    "\n",
    "\n",
    "**Epicentro**, proyeccion de la energia del epicentro en la superficie."
   ]
  },
  {
   "cell_type": "markdown",
   "id": "ae643794",
   "metadata": {},
   "source": [
    "![](img/sismo.jpg)"
   ]
  },
  {
   "cell_type": "markdown",
   "id": "cf6a483c",
   "metadata": {},
   "source": [
    "### Esfuerzos y deformaciones \n",
    "\n",
    "Los Módulos elásticos, determinan caracteristicas de materiales de elasticidad.\n",
    "\n",
    "\n",
    "Módulo de young, fuerza entre área, mientras se le aplica fuerza, más pequeño se hace el material.\n",
    "\n",
    "\n",
    "Módulo de compresibilidad similar al de young pero con el agregado de profundidad, se puede ver en un plano en tercera dimensión.\n",
    "\n",
    "\n",
    "Módulo cizalla aplicación de una fuerza en ambos extremos de un objeto en sentidos opuestos.\n",
    "\n",
    "\n",
    "Finalmente mencionaremos que el coeficiente de poisson se utiliza para comparar deformaciones.\n",
    "\n"
   ]
  },
  {
   "cell_type": "markdown",
   "id": "4906e0e5",
   "metadata": {},
   "source": [
    "![](img/modulos.png)"
   ]
  },
  {
   "cell_type": "markdown",
   "id": "70958335",
   "metadata": {},
   "source": [
    "#### Definicion de la onda\n",
    "\n",
    "\n",
    "Definimos una onda como la frecuencia del número de ciclos por unidad de tiempo. Existe la ley de snell, que se utiliza para calcular nivel de incidencia y refracción de una onda. Para complemento el principio de Fermat, explica que la trayectoria que seguirán las ondas, van a seguir la trayectoria de tiempo mínima no de distancia mínima, es decir siempre se busca llegar de un punto A a un punto B en el menor tiempo no en la menor distancia.\n",
    "\n",
    "\n",
    "En caso de que existan velocidades diferentes, se va a refractar con los siguientes principios:\n",
    "\n",
    "v1 < V2 - Se reflectará a la derecha, tenderá a dibujar una línea horizontal.\n",
    "\n",
    "\n",
    "\n",
    "v1 > V1 - Se reflectará a la izquierda, tenderá a dibujar líneas verticales.\n",
    "\n",
    "donde V es velocidad.\n",
    "\n",
    "\n",
    "\n",
    "\n",
    "Otro concepto que vamos a resaltar son las ondas de cabecera, ondas generadas por delante de las demás ondas, se incide a una capa de ángulo de 90 grados, se \"queda atrapada entre capas\"\n",
    "\n"
   ]
  },
  {
   "cell_type": "markdown",
   "id": "65ff8368",
   "metadata": {},
   "source": [
    "![](img/reflec.png)"
   ]
  },
  {
   "cell_type": "markdown",
   "id": "361c74df",
   "metadata": {},
   "source": [
    "La zona de fresnel es un concepto el cual nos menciona que existe un emisor y un receptor donde la onda va a ser enviada, existe un área en forma de elipse donde existiría una pérdida de información fuera de esa área (De aproximadamente 180 grados).\n",
    "\n",
    "\n",
    "principio de huygens ondas compuestas de frentes de ondas más pequeños (Se puede observar en la imagen anterior en la figura b).\n"
   ]
  },
  {
   "cell_type": "markdown",
   "id": "06bf71d8",
   "metadata": {},
   "source": [
    "### Área de Estudio\n",
    "**Guerrero** es un estado de México con la capital Chilpancingo de los bravo ubicada al sur del país. Localizado junto al límite entre las placas tectónicas de Cocos y Norteamérica, es considerado como uno de los estados sísmicos más activos de México.\n",
    "\n",
    "**Michoacán**, Ubicado en la región Oeste, al norte del estado de Guerrero, con la capital siendo la ciudad más poblada del estado Morelia, al igual que Guerrero, comparte las capas tectónicas de cocos y la norteamericana lo cual hace que se considere como otro estado muy activo sísmicamente.\n",
    "\n",
    "Finalmente se encuentra **Yucatán**, siendo un estado de México, localizado en la región sureste, teniendo de capital a Mérida, se encuentra entre le placa del Caribe, la norteamericana y la placa sudamericana, a pesar de ser una región de poca actividad sísmica, se han registrado algunos eventos sísmicos\n",
    "\n",
    "La información se obtuvo de la página del servicio sismológico nacional (http://www2.ssn.unam.mx:8080/catalogo/), en un periodo de 20 años desde septiembre del 2000 hasta septiembre del 2020.\n"
   ]
  },
  {
   "cell_type": "markdown",
   "id": "87ace84a",
   "metadata": {},
   "source": [
    "![](img/Mex.jpg)"
   ]
  },
  {
   "cell_type": "markdown",
   "id": "d9eb956a",
   "metadata": {},
   "source": [
    "### Objetivo\n",
    "Determinar si existe una relación entre la Magnitud, profundidad, así como longitud y latitud de los sismos.\n",
    "\n",
    "### Hipótesis\n",
    "Se espera una estrecha relación entre magnitud y profundidad, es decir mientras mayor profundidad tenga el evento, menor seria la magnitud esperada a su vez.\n"
   ]
  },
  {
   "cell_type": "markdown",
   "id": "3b522c84",
   "metadata": {},
   "source": [
    "### Metodología"
   ]
  },
  {
   "cell_type": "code",
   "execution_count": 2,
   "id": "ac26076e",
   "metadata": {
    "scrolled": true
   },
   "outputs": [
    {
     "name": "stderr",
     "output_type": "stream",
     "text": [
      "Warning message:\n",
      "\"package 'readxl' was built under R version 3.6.3\"Warning message in read_fun(path = enc2native(normalizePath(path)), sheet_i = sheet, :\n",
      "\"Expecting numeric in E8756 / R8756C5: got 'en revision'\"Warning message in read_fun(path = enc2native(normalizePath(path)), sheet_i = sheet, :\n",
      "\"Expecting numeric in E9493 / R9493C5: got 'en revision'\"Warning message in read_fun(path = enc2native(normalizePath(path)), sheet_i = sheet, :\n",
      "\"Expecting numeric in E10398 / R10398C5: got 'en revision'\"Warning message in read_fun(path = enc2native(normalizePath(path)), sheet_i = sheet, :\n",
      "\"Expecting numeric in E11315 / R11315C5: got 'en revision'\"Warning message in read_fun(path = enc2native(normalizePath(path)), sheet_i = sheet, :\n",
      "\"Expecting numeric in B11496 / R11496C2: got 'no calculable'\"Warning message in read_fun(path = enc2native(normalizePath(path)), sheet_i = sheet, :\n",
      "\"Expecting numeric in E29652 / R29652C5: got 'menos de 1'\"Warning message in read_fun(path = enc2native(normalizePath(path)), sheet_i = sheet, :\n",
      "\"Expecting numeric in E29654 / R29654C5: got 'menos de 1'\"Warning message in read_fun(path = enc2native(normalizePath(path)), sheet_i = sheet, :\n",
      "\"Expecting numeric in E29657 / R29657C5: got 'menos de 1'\"Warning message in read_fun(path = enc2native(normalizePath(path)), sheet_i = sheet, :\n",
      "\"Expecting numeric in E29667 / R29667C5: got 'menos de 1'\"Warning message in read_fun(path = enc2native(normalizePath(path)), sheet_i = sheet, :\n",
      "\"Expecting numeric in E29674 / R29674C5: got 'menos de 1'\"Warning message in read_fun(path = enc2native(normalizePath(path)), sheet_i = sheet, :\n",
      "\"Expecting numeric in E29716 / R29716C5: got 'menos de 1'\"Warning message in read_fun(path = enc2native(normalizePath(path)), sheet_i = sheet, :\n",
      "\"Expecting numeric in E29717 / R29717C5: got 'menos de 1'\"Warning message in read_fun(path = enc2native(normalizePath(path)), sheet_i = sheet, :\n",
      "\"Expecting numeric in E29719 / R29719C5: got 'menos de 1'\"Warning message in read_fun(path = enc2native(normalizePath(path)), sheet_i = sheet, :\n",
      "\"Expecting numeric in E29720 / R29720C5: got 'menos de 1'\"Warning message in read_fun(path = enc2native(normalizePath(path)), sheet_i = sheet, :\n",
      "\"Expecting numeric in E29721 / R29721C5: got 'menos de 1'\"Warning message in read_fun(path = enc2native(normalizePath(path)), sheet_i = sheet, :\n",
      "\"Expecting numeric in E29727 / R29727C5: got 'menos de 1'\"Warning message in read_fun(path = enc2native(normalizePath(path)), sheet_i = sheet, :\n",
      "\"Expecting numeric in E29747 / R29747C5: got 'menos de 1'\"Warning message in read_fun(path = enc2native(normalizePath(path)), sheet_i = sheet, :\n",
      "\"Expecting numeric in E29749 / R29749C5: got 'menos de 1'\"Warning message in read_fun(path = enc2native(normalizePath(path)), sheet_i = sheet, :\n",
      "\"Expecting numeric in E31787 / R31787C5: got 'menos de 1'\"Warning message in read_fun(path = enc2native(normalizePath(path)), sheet_i = sheet, :\n",
      "\"Expecting numeric in E38477 / R38477C5: got 'menos de 1'\"Warning message:\n",
      "\"package 'car' was built under R version 3.6.3\"Loading required package: carData\n",
      "Warning message:\n",
      "\"package 'carData' was built under R version 3.6.3\"Warning message:\n",
      "\"package 'reshape' was built under R version 3.6.3\"Warning message:\n",
      "\"package 'multcomp' was built under R version 3.6.3\"Loading required package: mvtnorm\n",
      "Warning message:\n",
      "\"package 'mvtnorm' was built under R version 3.6.2\"Loading required package: survival\n",
      "Loading required package: TH.data\n",
      "Warning message:\n",
      "\"package 'TH.data' was built under R version 3.6.3\"Loading required package: MASS\n",
      "\n",
      "Attaching package: 'TH.data'\n",
      "\n",
      "The following object is masked from 'package:MASS':\n",
      "\n",
      "    geyser\n",
      "\n",
      "Warning message:\n",
      "\"package 'pastecs' was built under R version 3.6.3\"Warning message:\n",
      "\"package 'WRS2' was built under R version 3.6.3\"Warning message:\n",
      "\"package 'psych' was built under R version 3.6.3\"\n",
      "Attaching package: 'psych'\n",
      "\n",
      "The following object is masked from 'package:car':\n",
      "\n",
      "    logit\n",
      "\n"
     ]
    }
   ],
   "source": [
    "# Se cargan librerias necesarias para trabajar, muchas de ellas son para el dibujado de histogramas y analisis estadisticos.\n",
    "\n",
    "library(readxl)\n",
    "sismos <- read_excel(\"sismos.xlsx\")\n",
    "\n",
    "\n",
    "library(readxl)\n",
    "library(car)\n",
    "library(reshape)\n",
    "library(multcomp)\n",
    "library(pastecs)\n",
    "library(WRS2)\n",
    "\n",
    "library(psych)"
   ]
  },
  {
   "cell_type": "code",
   "execution_count": 3,
   "id": "eaf306c9",
   "metadata": {},
   "outputs": [
    {
     "data": {
      "image/png": "[encoded data removed]",
      "text/plain": [
       "Plot with title \"Profundidad\""
      ]
     },
     "metadata": {},
     "output_type": "display_data"
    }
   ],
   "source": [
    "#Dibujamos un histograma con los datos que vamos a querer comparar\n",
    "\n",
    "hist(x = sismos$Magnitud, main = \"Profundidad\", \n",
    "     xlab = \"magnitud \", ylab = \"profundidad\",\n",
    "     col = \"green\")"
   ]
  },
  {
   "cell_type": "code",
   "execution_count": 4,
   "id": "0bbd0ce6",
   "metadata": {},
   "outputs": [
    {
     "name": "stderr",
     "output_type": "stream",
     "text": [
      "Warning message in breaks[-1L] + breaks[-nB]:\n",
      "\"NAs producidos por enteros excedidos\""
     ]
    },
    {
     "data": {
      "image/png": "[encoded data removed]",
      "text/plain": [
       "plot without title"
      ]
     },
     "metadata": {},
     "output_type": "display_data"
    }
   ],
   "source": [
    "pairs.panels(sismos[c(1,2,3,4,5,6)],\n",
    "             cex.cor = 0.5)"
   ]
  },
  {
   "cell_type": "markdown",
   "id": "892d8eb0",
   "metadata": {},
   "source": [
    "## Resultados\n",
    "\n",
    "\n",
    "\n",
    "Observamos que entre los años 2010 al 2019 se observa un aumento de actividad sísmica, seguida de un decremento a partir del año 2020, podemos notar una alta correlación en la latitud y longitud, esto nos puede dar un indicio de que en zonas aledañas suele haber actividad similar o incluso idéntica.\n",
    "\n",
    "\n",
    "La hora parece no tener un indicio de nada, esto nos da como resultado afirmar que no existe hora específica en la que tienda a existir una mayor actividad sísmica.\n",
    "Notemos que no existe como tal una correlación entre magnitud y profundidad, pero si se puede observar que la mayoria de los sismos de categorias más altas (4 a 5), se encuentran a mayores profundidades.\n",
    "Existen en algunos espacios latitudes y longitudes que no se relacionan mucho con la magnitud, esto es resultado a la introducción del estado de Yucatán en la base de datos, el cual, se sabe que no tiene mucha actividad sísmica pues solo existen 3 datos en la base de datos de aproximadamente de 45958 registros, lo cual se puede notar en los diagramas de dispersión donde vemos que la mayor cantidad de puntos se concentran en una sola zona (Michoacán y Guerrero) y los otros puntos más alejados corresponden a Yucatán.\n",
    "\n",
    "\n"
   ]
  },
  {
   "cell_type": "markdown",
   "id": "b401f8f7",
   "metadata": {},
   "source": [
    "## Material Anexo"
   ]
  },
  {
   "cell_type": "markdown",
   "id": "f7c715d8",
   "metadata": {},
   "source": [
    "![](img/Mx.png)"
   ]
  },
  {
   "cell_type": "markdown",
   "id": "66cc3483",
   "metadata": {},
   "source": [
    "## Referencias \n",
    "\n",
    "\n",
    "Lista de reproducción a partir del video 59, https://youtube.com/playlist?list=PLv_zpAUdhcOLYc5AzbLTj5InQmP4SYoug\n",
    "\n",
    "\n",
    "http://www2.ssn.unam.mx:8080/catalogo/\n",
    "\n",
    "\n",
    "https://www.gob.mx/sgm/es/articulos/sismos-causas-caracteristicas-e-impactos?idiom=es\n",
    "\n",
    "\n",
    "\n",
    "http://www.ssn.unam.mx/sismicidad/reportes-especiales/2015/SSNMX_rep_esp_20150111_quintanaroo_M42.pdf\n",
    "\n",
    "\n",
    "\n",
    "\n",
    "\n",
    "\n"
   ]
  }
 ],
 "metadata": {
  "kernelspec": {
   "display_name": "R",
   "language": "R",
   "name": "ir"
  },
  "language_info": {
   "codemirror_mode": "r",
   "file_extension": ".r",
   "mimetype": "text/x-r-source",
   "name": "R",
   "pygments_lexer": "r",
   "version": "3.6.1"
  }
 },
 "nbformat": 4,
 "nbformat_minor": 5
}
